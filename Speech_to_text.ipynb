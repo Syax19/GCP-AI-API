{
 "cells": [
  {
   "cell_type": "markdown",
   "id": "bf3db4f6",
   "metadata": {},
   "source": [
    "# Using PyAudio to record WAV file (defalut record_seconds)"
   ]
  },
  {
   "cell_type": "code",
   "execution_count": 1,
   "id": "79c9b9f2",
   "metadata": {
    "scrolled": false
   },
   "outputs": [
    {
     "name": "stdout",
     "output_type": "stream",
     "text": [
      "* recording\n",
      "* done recording\n"
     ]
    }
   ],
   "source": [
    "\"\"\"Source: https://people.csail.mit.edu/hubert/pyaudio/\"\"\"\n",
    "\"\"\"PyAudio example: Record a few seconds of audio and save to a WAV file.\"\"\"\n",
    "\n",
    "import pyaudio\n",
    "import wave\n",
    "\n",
    "CHUNK = 1024\n",
    "FORMAT = pyaudio.paInt16  # 16 bits equal to 2 bytes\n",
    "CHANNELS = 2\n",
    "RATE = 44100          # 採樣速率(Khz/sec)\n",
    "RECORD_SECONDS = 5    # 固定錄音時間(sec)\n",
    "WAVE_OUTPUT_FILENAME = \"output.wav\"\n",
    "\n",
    "p = pyaudio.PyAudio()     # Create object\n",
    "\n",
    "stream = p.open(format=FORMAT,\n",
    "                channels=CHANNELS,\n",
    "                rate=RATE,\n",
    "                input=True,\n",
    "                frames_per_buffer=CHUNK)\n",
    "\n",
    "print(\"* recording\")\n",
    "\n",
    "frames = []\n",
    "\n",
    "for i in range(0, int(RATE / CHUNK * RECORD_SECONDS)):\n",
    "    data = stream.read(CHUNK)\n",
    "    frames.append(data)\n",
    "\n",
    "print(\"* done recording\")\n",
    "\n",
    "stream.stop_stream()\n",
    "stream.close()\n",
    "p.terminate()\n",
    "\n",
    "wf = wave.open(WAVE_OUTPUT_FILENAME, 'wb')\n",
    "wf.setnchannels(CHANNELS)\n",
    "wf.setsampwidth(p.get_sample_size(FORMAT))\n",
    "wf.setframerate(RATE)\n",
    "wf.writeframes(b''.join(frames))   # 用bit資料型態儲存資料\n",
    "wf.close()"
   ]
  },
  {
   "cell_type": "markdown",
   "id": "2bf249b8",
   "metadata": {},
   "source": [
    "# Try to understand what frame is"
   ]
  },
  {
   "cell_type": "code",
   "execution_count": null,
   "id": "588ba27f",
   "metadata": {},
   "outputs": [],
   "source": [
    "frame"
   ]
  },
  {
   "cell_type": "code",
   "execution_count": 3,
   "id": "f16f855e",
   "metadata": {
    "scrolled": true
   },
   "outputs": [
    {
     "data": {
      "text/plain": [
       "215"
      ]
     },
     "execution_count": 3,
     "metadata": {},
     "output_type": "execute_result"
    }
   ],
   "source": [
    "len(frames)"
   ]
  },
  {
   "cell_type": "code",
   "execution_count": null,
   "id": "b18d8d7d",
   "metadata": {},
   "outputs": [],
   "source": [
    "frames[0]"
   ]
  },
  {
   "cell_type": "code",
   "execution_count": 5,
   "id": "30b4f571",
   "metadata": {},
   "outputs": [
    {
     "data": {
      "text/plain": [
       "4096"
      ]
     },
     "execution_count": 5,
     "metadata": {},
     "output_type": "execute_result"
    }
   ],
   "source": [
    "len(frames[0])"
   ]
  },
  {
   "cell_type": "code",
   "execution_count": 6,
   "id": "321f5f90",
   "metadata": {},
   "outputs": [
    {
     "data": {
      "text/plain": [
       "215.33203125"
      ]
     },
     "execution_count": 6,
     "metadata": {},
     "output_type": "execute_result"
    }
   ],
   "source": [
    "RATE / CHUNK * RECORD_SECONDS"
   ]
  },
  {
   "cell_type": "code",
   "execution_count": 7,
   "id": "07399616",
   "metadata": {},
   "outputs": [
    {
     "data": {
      "text/plain": [
       "43.06640625"
      ]
     },
     "execution_count": 7,
     "metadata": {},
     "output_type": "execute_result"
    }
   ],
   "source": [
    "44100 / 1024"
   ]
  },
  {
   "cell_type": "code",
   "execution_count": 8,
   "id": "967eed68",
   "metadata": {},
   "outputs": [
    {
     "data": {
      "text/plain": [
       "215"
      ]
     },
     "execution_count": 8,
     "metadata": {},
     "output_type": "execute_result"
    }
   ],
   "source": [
    "43 * 5"
   ]
  },
  {
   "cell_type": "markdown",
   "id": "5c42482d",
   "metadata": {},
   "source": [
    "# Speech-to-Text Application feat. Google Cloud Speech-to-Text API"
   ]
  },
  {
   "cell_type": "code",
   "execution_count": 12,
   "id": "82610886",
   "metadata": {},
   "outputs": [
    {
     "name": "stdout",
     "output_type": "stream",
     "text": [
      "這是5秒鐘的測試聽一下聲音看怎麼樣嘿嘿嘿, 0.926\n"
     ]
    }
   ],
   "source": [
    "import os\n",
    "\n",
    "from google.cloud import speech, storage\n",
    "\n",
    "YOUR_SERVICE = 'YOUR_SERVICE ACCOUNT KEY'   # YOUR_SERVICE ACCOUNT KEY(a json file)\n",
    "YOUR_AUDIO = './output.wav'  # YOUR_AUDIO FILE\n",
    "YOUR_BUCKET = 'YOUR_BUCKET NAME'  # YOUR_BUCKET NAME  # note: service account should have cloud storage access\n",
    "\n",
    "os.environ['GOOGLE_APPLICATION_CREDENTIALS'] = YOUR_SERVICE\n",
    "storage_client = storage.Client()\n",
    "speech_client = speech.SpeechClient()\n",
    "\n",
    "# upload file to GCS(Google Cloud Storage)\n",
    "bucket = storage_client.bucket(YOUR_BUCKET)\n",
    "bucket.blob(YOUR_AUDIO).upload_from_filename(YOUR_AUDIO)\n",
    "uri = f'gs://{YOUR_BUCKET}/{YOUR_AUDIO}'\n",
    "\n",
    "# transcript the audio\n",
    "audio = speech.RecognitionAudio(uri=uri)\n",
    "config = speech.RecognitionConfig(\n",
    "    encoding=speech.RecognitionConfig.AudioEncoding.ENCODING_UNSPECIFIED,  # If your file format is WAV or FLAC, you do not need to specify an AudioEncoding actually\n",
    "    sample_rate_hertz=44100,\n",
    "    audio_channel_count=2,  # take care, default is 1\n",
    "    language_code=\"zh-TW\",\n",
    "    max_alternatives=10\n",
    ")\n",
    "response = speech_client.recognize(config=config, audio=audio)\n",
    "\n",
    "for r in response.results:\n",
    "    print(f'{r.alternatives[0].transcript}, {r.alternatives[0].confidence:.3f}')"
   ]
  },
  {
   "cell_type": "markdown",
   "id": "842331f8",
   "metadata": {},
   "source": [
    "# Using PyAudio to record WAV file (optional recording time)"
   ]
  },
  {
   "cell_type": "code",
   "execution_count": 26,
   "id": "90119756",
   "metadata": {},
   "outputs": [
    {
     "name": "stdout",
     "output_type": "stream",
     "text": [
      "* recording\n",
      "[enter] to stop...\n",
      "* done recording\n"
     ]
    }
   ],
   "source": [
    "\"\"\"Source: https://people.csail.mit.edu/hubert/pyaudio/\"\"\"\n",
    "\"\"\"PyAudio example: Record a few seconds of audio and save to a WAV file.\"\"\"\n",
    "\n",
    "import pyaudio\n",
    "import wave\n",
    "import threading\n",
    "\n",
    "CHUNK = 1024\n",
    "FORMAT = pyaudio.paInt16  \n",
    "CHANNELS = 2\n",
    "RATE = 44100          \n",
    "WAVE_OUTPUT_FILENAME = \"output2.wav\"\n",
    "\n",
    "def user_stop():\n",
    "    input('[enter] to stop...')\n",
    "    stream.stop_stream()\n",
    "\n",
    "p = pyaudio.PyAudio()   \n",
    "\n",
    "stream = p.open(format=FORMAT,\n",
    "                channels=CHANNELS,\n",
    "                rate=RATE,\n",
    "                input=True,\n",
    "                frames_per_buffer=CHUNK)\n",
    "\n",
    "print(\"* recording\")\n",
    "\n",
    "frames = []\n",
    "\n",
    "user_stop_thread = threading.Thread(target=user_stop)\n",
    "user_stop_thread.start()\n",
    "\n",
    "while stream.is_active():\n",
    "    data = stream.read(CHUNK)\n",
    "    frames.append(data)\n",
    "\n",
    "print(\"* done recording\")\n",
    "user_stop_thread.join()\n",
    "\n",
    "\n",
    "stream.close()\n",
    "p.terminate()\n",
    "\n",
    "wf = wave.open(WAVE_OUTPUT_FILENAME, 'wb')\n",
    "wf.setnchannels(CHANNELS)\n",
    "wf.setsampwidth(p.get_sample_size(FORMAT))\n",
    "wf.setframerate(RATE)\n",
    "wf.writeframes(b''.join(frames))   \n",
    "wf.close()"
   ]
  },
  {
   "cell_type": "code",
   "execution_count": null,
   "id": "25b5c6ee",
   "metadata": {},
   "outputs": [],
   "source": []
  }
 ],
 "metadata": {
  "kernelspec": {
   "display_name": "Python 3 (ipykernel)",
   "language": "python",
   "name": "python3"
  },
  "language_info": {
   "codemirror_mode": {
    "name": "ipython",
    "version": 3
   },
   "file_extension": ".py",
   "mimetype": "text/x-python",
   "name": "python",
   "nbconvert_exporter": "python",
   "pygments_lexer": "ipython3",
   "version": "3.7.13"
  }
 },
 "nbformat": 4,
 "nbformat_minor": 5
}
